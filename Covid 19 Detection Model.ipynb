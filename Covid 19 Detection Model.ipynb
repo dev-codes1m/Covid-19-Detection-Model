{
 "cells": [
  {
   "cell_type": "markdown",
   "id": "3e0e52cb",
   "metadata": {},
   "source": [
    "## Importing dependencies"
   ]
  },
  {
   "cell_type": "code",
   "execution_count": 1,
   "id": "b2d55c7c",
   "metadata": {},
   "outputs": [],
   "source": [
    "import numpy as np\n",
    "import pandas as pd\n",
    "from sklearn.model_selection import train_test_split\n",
    "from xgboost import XGBClassifier\n",
    "from sklearn.metrics import accuracy_score\n",
    "import matplotlib.pyplot as plt\n",
    "import seaborn as sns"
   ]
  },
  {
   "cell_type": "markdown",
   "id": "4fef92f6",
   "metadata": {},
   "source": [
    "## Data Collection"
   ]
  },
  {
   "cell_type": "code",
   "execution_count": 2,
   "id": "ca490c32",
   "metadata": {},
   "outputs": [],
   "source": [
    "covid_data = pd.read_csv('data.csv')"
   ]
  },
  {
   "cell_type": "code",
   "execution_count": 3,
   "id": "153028fe",
   "metadata": {},
   "outputs": [
    {
     "data": {
      "text/html": [
       "<div>\n",
       "<style scoped>\n",
       "    .dataframe tbody tr th:only-of-type {\n",
       "        vertical-align: middle;\n",
       "    }\n",
       "\n",
       "    .dataframe tbody tr th {\n",
       "        vertical-align: top;\n",
       "    }\n",
       "\n",
       "    .dataframe thead th {\n",
       "        text-align: right;\n",
       "    }\n",
       "</style>\n",
       "<table border=\"1\" class=\"dataframe\">\n",
       "  <thead>\n",
       "    <tr style=\"text-align: right;\">\n",
       "      <th></th>\n",
       "      <th>id</th>\n",
       "      <th>gender</th>\n",
       "      <th>age</th>\n",
       "      <th>heart_rate</th>\n",
       "      <th>temperature</th>\n",
       "      <th>SpO2_saturation</th>\n",
       "      <th>bpm</th>\n",
       "      <th>Health_status</th>\n",
       "    </tr>\n",
       "  </thead>\n",
       "  <tbody>\n",
       "    <tr>\n",
       "      <th>0</th>\n",
       "      <td>1</td>\n",
       "      <td>male</td>\n",
       "      <td>66.0</td>\n",
       "      <td>70</td>\n",
       "      <td>38.6</td>\n",
       "      <td>88.0</td>\n",
       "      <td>75</td>\n",
       "      <td>Infected</td>\n",
       "    </tr>\n",
       "    <tr>\n",
       "      <th>1</th>\n",
       "      <td>2</td>\n",
       "      <td>female</td>\n",
       "      <td>56.0</td>\n",
       "      <td>74</td>\n",
       "      <td>39.6</td>\n",
       "      <td>88.0</td>\n",
       "      <td>70</td>\n",
       "      <td>Infected</td>\n",
       "    </tr>\n",
       "    <tr>\n",
       "      <th>2</th>\n",
       "      <td>3</td>\n",
       "      <td>male</td>\n",
       "      <td>46.0</td>\n",
       "      <td>82</td>\n",
       "      <td>37.2</td>\n",
       "      <td>98.0</td>\n",
       "      <td>83</td>\n",
       "      <td>Non Infected</td>\n",
       "    </tr>\n",
       "    <tr>\n",
       "      <th>3</th>\n",
       "      <td>4</td>\n",
       "      <td>female</td>\n",
       "      <td>60.0</td>\n",
       "      <td>90</td>\n",
       "      <td>38.6</td>\n",
       "      <td>98.0</td>\n",
       "      <td>75</td>\n",
       "      <td>Non Infected</td>\n",
       "    </tr>\n",
       "    <tr>\n",
       "      <th>4</th>\n",
       "      <td>5</td>\n",
       "      <td>male</td>\n",
       "      <td>58.0</td>\n",
       "      <td>72</td>\n",
       "      <td>39.6</td>\n",
       "      <td>93.0</td>\n",
       "      <td>78</td>\n",
       "      <td>Infected</td>\n",
       "    </tr>\n",
       "  </tbody>\n",
       "</table>\n",
       "</div>"
      ],
      "text/plain": [
       "   id  gender   age  heart_rate  temperature  SpO2_saturation  bpm  \\\n",
       "0   1    male  66.0          70         38.6             88.0   75   \n",
       "1   2  female  56.0          74         39.6             88.0   70   \n",
       "2   3    male  46.0          82         37.2             98.0   83   \n",
       "3   4  female  60.0          90         38.6             98.0   75   \n",
       "4   5    male  58.0          72         39.6             93.0   78   \n",
       "\n",
       "  Health_status  \n",
       "0      Infected  \n",
       "1      Infected  \n",
       "2  Non Infected  \n",
       "3  Non Infected  \n",
       "4      Infected  "
      ]
     },
     "execution_count": 3,
     "metadata": {},
     "output_type": "execute_result"
    }
   ],
   "source": [
    "covid_data.head()"
   ]
  },
  {
   "cell_type": "code",
   "execution_count": 4,
   "id": "f3434f4e",
   "metadata": {},
   "outputs": [
    {
     "data": {
      "text/plain": [
       "(1085, 8)"
      ]
     },
     "execution_count": 4,
     "metadata": {},
     "output_type": "execute_result"
    }
   ],
   "source": [
    "covid_data.shape"
   ]
  },
  {
   "cell_type": "code",
   "execution_count": 5,
   "id": "090f2760",
   "metadata": {},
   "outputs": [
    {
     "data": {
      "text/html": [
       "<div>\n",
       "<style scoped>\n",
       "    .dataframe tbody tr th:only-of-type {\n",
       "        vertical-align: middle;\n",
       "    }\n",
       "\n",
       "    .dataframe tbody tr th {\n",
       "        vertical-align: top;\n",
       "    }\n",
       "\n",
       "    .dataframe thead th {\n",
       "        text-align: right;\n",
       "    }\n",
       "</style>\n",
       "<table border=\"1\" class=\"dataframe\">\n",
       "  <thead>\n",
       "    <tr style=\"text-align: right;\">\n",
       "      <th></th>\n",
       "      <th>id</th>\n",
       "      <th>age</th>\n",
       "      <th>heart_rate</th>\n",
       "      <th>temperature</th>\n",
       "      <th>SpO2_saturation</th>\n",
       "      <th>bpm</th>\n",
       "    </tr>\n",
       "  </thead>\n",
       "  <tbody>\n",
       "    <tr>\n",
       "      <th>count</th>\n",
       "      <td>1085.000000</td>\n",
       "      <td>843.000000</td>\n",
       "      <td>1085.000000</td>\n",
       "      <td>1085.000000</td>\n",
       "      <td>1085.000000</td>\n",
       "      <td>1085.000000</td>\n",
       "    </tr>\n",
       "    <tr>\n",
       "      <th>mean</th>\n",
       "      <td>543.000000</td>\n",
       "      <td>49.483689</td>\n",
       "      <td>89.812903</td>\n",
       "      <td>38.562488</td>\n",
       "      <td>66.707465</td>\n",
       "      <td>71.221198</td>\n",
       "    </tr>\n",
       "    <tr>\n",
       "      <th>std</th>\n",
       "      <td>313.356825</td>\n",
       "      <td>18.255334</td>\n",
       "      <td>19.685747</td>\n",
       "      <td>4.592419</td>\n",
       "      <td>30.251069</td>\n",
       "      <td>13.148559</td>\n",
       "    </tr>\n",
       "    <tr>\n",
       "      <th>min</th>\n",
       "      <td>1.000000</td>\n",
       "      <td>0.250000</td>\n",
       "      <td>47.000000</td>\n",
       "      <td>36.000000</td>\n",
       "      <td>20.000000</td>\n",
       "      <td>44.000000</td>\n",
       "    </tr>\n",
       "    <tr>\n",
       "      <th>25%</th>\n",
       "      <td>272.000000</td>\n",
       "      <td>35.000000</td>\n",
       "      <td>72.000000</td>\n",
       "      <td>38.000000</td>\n",
       "      <td>30.000000</td>\n",
       "      <td>59.000000</td>\n",
       "    </tr>\n",
       "    <tr>\n",
       "      <th>50%</th>\n",
       "      <td>543.000000</td>\n",
       "      <td>51.000000</td>\n",
       "      <td>91.000000</td>\n",
       "      <td>38.100000</td>\n",
       "      <td>82.000000</td>\n",
       "      <td>72.000000</td>\n",
       "    </tr>\n",
       "    <tr>\n",
       "      <th>75%</th>\n",
       "      <td>814.000000</td>\n",
       "      <td>64.000000</td>\n",
       "      <td>110.000000</td>\n",
       "      <td>38.500000</td>\n",
       "      <td>87.300000</td>\n",
       "      <td>81.000000</td>\n",
       "    </tr>\n",
       "    <tr>\n",
       "      <th>max</th>\n",
       "      <td>1085.000000</td>\n",
       "      <td>96.000000</td>\n",
       "      <td>120.000000</td>\n",
       "      <td>95.000000</td>\n",
       "      <td>340.000000</td>\n",
       "      <td>109.000000</td>\n",
       "    </tr>\n",
       "  </tbody>\n",
       "</table>\n",
       "</div>"
      ],
      "text/plain": [
       "                id         age   heart_rate  temperature  SpO2_saturation  \\\n",
       "count  1085.000000  843.000000  1085.000000  1085.000000      1085.000000   \n",
       "mean    543.000000   49.483689    89.812903    38.562488        66.707465   \n",
       "std     313.356825   18.255334    19.685747     4.592419        30.251069   \n",
       "min       1.000000    0.250000    47.000000    36.000000        20.000000   \n",
       "25%     272.000000   35.000000    72.000000    38.000000        30.000000   \n",
       "50%     543.000000   51.000000    91.000000    38.100000        82.000000   \n",
       "75%     814.000000   64.000000   110.000000    38.500000        87.300000   \n",
       "max    1085.000000   96.000000   120.000000    95.000000       340.000000   \n",
       "\n",
       "               bpm  \n",
       "count  1085.000000  \n",
       "mean     71.221198  \n",
       "std      13.148559  \n",
       "min      44.000000  \n",
       "25%      59.000000  \n",
       "50%      72.000000  \n",
       "75%      81.000000  \n",
       "max     109.000000  "
      ]
     },
     "execution_count": 5,
     "metadata": {},
     "output_type": "execute_result"
    }
   ],
   "source": [
    "covid_data.describe()"
   ]
  },
  {
   "cell_type": "code",
   "execution_count": 6,
   "id": "59089cc9",
   "metadata": {},
   "outputs": [
    {
     "name": "stdout",
     "output_type": "stream",
     "text": [
      "<class 'pandas.core.frame.DataFrame'>\n",
      "RangeIndex: 1085 entries, 0 to 1084\n",
      "Data columns (total 8 columns):\n",
      " #   Column           Non-Null Count  Dtype  \n",
      "---  ------           --------------  -----  \n",
      " 0   id               1085 non-null   int64  \n",
      " 1   gender           902 non-null    object \n",
      " 2   age              843 non-null    float64\n",
      " 3   heart_rate       1085 non-null   int64  \n",
      " 4   temperature      1085 non-null   float64\n",
      " 5   SpO2_saturation  1085 non-null   float64\n",
      " 6   bpm              1085 non-null   int64  \n",
      " 7   Health_status    1085 non-null   object \n",
      "dtypes: float64(3), int64(3), object(2)\n",
      "memory usage: 67.9+ KB\n"
     ]
    }
   ],
   "source": [
    "covid_data.info()"
   ]
  },
  {
   "cell_type": "code",
   "execution_count": 7,
   "id": "c480381f",
   "metadata": {},
   "outputs": [
    {
     "data": {
      "text/plain": [
       "id                   0\n",
       "gender             183\n",
       "age                242\n",
       "heart_rate           0\n",
       "temperature          0\n",
       "SpO2_saturation      0\n",
       "bpm                  0\n",
       "Health_status        0\n",
       "dtype: int64"
      ]
     },
     "execution_count": 7,
     "metadata": {},
     "output_type": "execute_result"
    }
   ],
   "source": [
    "covid_data.isnull().sum()"
   ]
  },
  {
   "cell_type": "markdown",
   "id": "fd15e1ee",
   "metadata": {},
   "source": [
    "### Encoding Gender data into \n",
    "* 0-> male\n",
    "* 1->female\n"
   ]
  },
  {
   "cell_type": "code",
   "execution_count": 8,
   "id": "235f3862",
   "metadata": {},
   "outputs": [],
   "source": [
    "covid_data.replace({'gender':{'male':0,'female':1}},inplace=True)"
   ]
  },
  {
   "cell_type": "code",
   "execution_count": 9,
   "id": "e57b5f82",
   "metadata": {},
   "outputs": [
    {
     "data": {
      "text/plain": [
       "0       0.0\n",
       "1       1.0\n",
       "2       0.0\n",
       "3       1.0\n",
       "4       0.0\n",
       "       ... \n",
       "1080    NaN\n",
       "1081    NaN\n",
       "1082    0.0\n",
       "1083    0.0\n",
       "1084    0.0\n",
       "Name: gender, Length: 1085, dtype: float64"
      ]
     },
     "execution_count": 9,
     "metadata": {},
     "output_type": "execute_result"
    }
   ],
   "source": [
    "covid_data['gender']"
   ]
  },
  {
   "cell_type": "markdown",
   "id": "b1335660",
   "metadata": {},
   "source": [
    "## Encoding Health Status Data\n",
    "* Infected->1\n",
    "* Non Infected->0"
   ]
  },
  {
   "cell_type": "code",
   "execution_count": 10,
   "id": "f7b4996d",
   "metadata": {},
   "outputs": [],
   "source": [
    "covid_data.replace({'Health_status':{'Infected':1,'Non Infected':0,'Non infected':0}},inplace=True)"
   ]
  },
  {
   "cell_type": "code",
   "execution_count": 11,
   "id": "f33835f8",
   "metadata": {},
   "outputs": [
    {
     "data": {
      "text/html": [
       "<div>\n",
       "<style scoped>\n",
       "    .dataframe tbody tr th:only-of-type {\n",
       "        vertical-align: middle;\n",
       "    }\n",
       "\n",
       "    .dataframe tbody tr th {\n",
       "        vertical-align: top;\n",
       "    }\n",
       "\n",
       "    .dataframe thead th {\n",
       "        text-align: right;\n",
       "    }\n",
       "</style>\n",
       "<table border=\"1\" class=\"dataframe\">\n",
       "  <thead>\n",
       "    <tr style=\"text-align: right;\">\n",
       "      <th></th>\n",
       "      <th>id</th>\n",
       "      <th>gender</th>\n",
       "      <th>age</th>\n",
       "      <th>heart_rate</th>\n",
       "      <th>temperature</th>\n",
       "      <th>SpO2_saturation</th>\n",
       "      <th>bpm</th>\n",
       "      <th>Health_status</th>\n",
       "    </tr>\n",
       "  </thead>\n",
       "  <tbody>\n",
       "    <tr>\n",
       "      <th>0</th>\n",
       "      <td>1</td>\n",
       "      <td>0.0</td>\n",
       "      <td>66.0</td>\n",
       "      <td>70</td>\n",
       "      <td>38.6</td>\n",
       "      <td>88.0</td>\n",
       "      <td>75</td>\n",
       "      <td>1</td>\n",
       "    </tr>\n",
       "    <tr>\n",
       "      <th>1</th>\n",
       "      <td>2</td>\n",
       "      <td>1.0</td>\n",
       "      <td>56.0</td>\n",
       "      <td>74</td>\n",
       "      <td>39.6</td>\n",
       "      <td>88.0</td>\n",
       "      <td>70</td>\n",
       "      <td>1</td>\n",
       "    </tr>\n",
       "    <tr>\n",
       "      <th>2</th>\n",
       "      <td>3</td>\n",
       "      <td>0.0</td>\n",
       "      <td>46.0</td>\n",
       "      <td>82</td>\n",
       "      <td>37.2</td>\n",
       "      <td>98.0</td>\n",
       "      <td>83</td>\n",
       "      <td>0</td>\n",
       "    </tr>\n",
       "    <tr>\n",
       "      <th>3</th>\n",
       "      <td>4</td>\n",
       "      <td>1.0</td>\n",
       "      <td>60.0</td>\n",
       "      <td>90</td>\n",
       "      <td>38.6</td>\n",
       "      <td>98.0</td>\n",
       "      <td>75</td>\n",
       "      <td>0</td>\n",
       "    </tr>\n",
       "    <tr>\n",
       "      <th>4</th>\n",
       "      <td>5</td>\n",
       "      <td>0.0</td>\n",
       "      <td>58.0</td>\n",
       "      <td>72</td>\n",
       "      <td>39.6</td>\n",
       "      <td>93.0</td>\n",
       "      <td>78</td>\n",
       "      <td>1</td>\n",
       "    </tr>\n",
       "  </tbody>\n",
       "</table>\n",
       "</div>"
      ],
      "text/plain": [
       "   id  gender   age  heart_rate  temperature  SpO2_saturation  bpm  \\\n",
       "0   1     0.0  66.0          70         38.6             88.0   75   \n",
       "1   2     1.0  56.0          74         39.6             88.0   70   \n",
       "2   3     0.0  46.0          82         37.2             98.0   83   \n",
       "3   4     1.0  60.0          90         38.6             98.0   75   \n",
       "4   5     0.0  58.0          72         39.6             93.0   78   \n",
       "\n",
       "   Health_status  \n",
       "0              1  \n",
       "1              1  \n",
       "2              0  \n",
       "3              0  \n",
       "4              1  "
      ]
     },
     "execution_count": 11,
     "metadata": {},
     "output_type": "execute_result"
    }
   ],
   "source": [
    "covid_data.head()"
   ]
  },
  {
   "cell_type": "markdown",
   "id": "18cb0480",
   "metadata": {},
   "source": [
    "## Handling the missing values"
   ]
  },
  {
   "cell_type": "code",
   "execution_count": 12,
   "id": "0b8706cd",
   "metadata": {},
   "outputs": [
    {
     "data": {
      "text/html": [
       "<div>\n",
       "<style scoped>\n",
       "    .dataframe tbody tr th:only-of-type {\n",
       "        vertical-align: middle;\n",
       "    }\n",
       "\n",
       "    .dataframe tbody tr th {\n",
       "        vertical-align: top;\n",
       "    }\n",
       "\n",
       "    .dataframe thead th {\n",
       "        text-align: right;\n",
       "    }\n",
       "</style>\n",
       "<table border=\"1\" class=\"dataframe\">\n",
       "  <thead>\n",
       "    <tr style=\"text-align: right;\">\n",
       "      <th></th>\n",
       "      <th>id</th>\n",
       "      <th>gender</th>\n",
       "      <th>age</th>\n",
       "      <th>heart_rate</th>\n",
       "      <th>temperature</th>\n",
       "      <th>SpO2_saturation</th>\n",
       "      <th>bpm</th>\n",
       "      <th>Health_status</th>\n",
       "    </tr>\n",
       "  </thead>\n",
       "  <tbody>\n",
       "    <tr>\n",
       "      <th>count</th>\n",
       "      <td>1085.000000</td>\n",
       "      <td>902.000000</td>\n",
       "      <td>843.000000</td>\n",
       "      <td>1085.000000</td>\n",
       "      <td>1085.000000</td>\n",
       "      <td>1085.000000</td>\n",
       "      <td>1085.000000</td>\n",
       "      <td>1085.000000</td>\n",
       "    </tr>\n",
       "    <tr>\n",
       "      <th>mean</th>\n",
       "      <td>543.000000</td>\n",
       "      <td>0.423503</td>\n",
       "      <td>49.483689</td>\n",
       "      <td>89.812903</td>\n",
       "      <td>38.562488</td>\n",
       "      <td>66.707465</td>\n",
       "      <td>71.221198</td>\n",
       "      <td>0.870968</td>\n",
       "    </tr>\n",
       "    <tr>\n",
       "      <th>std</th>\n",
       "      <td>313.356825</td>\n",
       "      <td>0.494388</td>\n",
       "      <td>18.255334</td>\n",
       "      <td>19.685747</td>\n",
       "      <td>4.592419</td>\n",
       "      <td>30.251069</td>\n",
       "      <td>13.148559</td>\n",
       "      <td>0.335390</td>\n",
       "    </tr>\n",
       "    <tr>\n",
       "      <th>min</th>\n",
       "      <td>1.000000</td>\n",
       "      <td>0.000000</td>\n",
       "      <td>0.250000</td>\n",
       "      <td>47.000000</td>\n",
       "      <td>36.000000</td>\n",
       "      <td>20.000000</td>\n",
       "      <td>44.000000</td>\n",
       "      <td>0.000000</td>\n",
       "    </tr>\n",
       "    <tr>\n",
       "      <th>25%</th>\n",
       "      <td>272.000000</td>\n",
       "      <td>0.000000</td>\n",
       "      <td>35.000000</td>\n",
       "      <td>72.000000</td>\n",
       "      <td>38.000000</td>\n",
       "      <td>30.000000</td>\n",
       "      <td>59.000000</td>\n",
       "      <td>1.000000</td>\n",
       "    </tr>\n",
       "    <tr>\n",
       "      <th>50%</th>\n",
       "      <td>543.000000</td>\n",
       "      <td>0.000000</td>\n",
       "      <td>51.000000</td>\n",
       "      <td>91.000000</td>\n",
       "      <td>38.100000</td>\n",
       "      <td>82.000000</td>\n",
       "      <td>72.000000</td>\n",
       "      <td>1.000000</td>\n",
       "    </tr>\n",
       "    <tr>\n",
       "      <th>75%</th>\n",
       "      <td>814.000000</td>\n",
       "      <td>1.000000</td>\n",
       "      <td>64.000000</td>\n",
       "      <td>110.000000</td>\n",
       "      <td>38.500000</td>\n",
       "      <td>87.300000</td>\n",
       "      <td>81.000000</td>\n",
       "      <td>1.000000</td>\n",
       "    </tr>\n",
       "    <tr>\n",
       "      <th>max</th>\n",
       "      <td>1085.000000</td>\n",
       "      <td>1.000000</td>\n",
       "      <td>96.000000</td>\n",
       "      <td>120.000000</td>\n",
       "      <td>95.000000</td>\n",
       "      <td>340.000000</td>\n",
       "      <td>109.000000</td>\n",
       "      <td>1.000000</td>\n",
       "    </tr>\n",
       "  </tbody>\n",
       "</table>\n",
       "</div>"
      ],
      "text/plain": [
       "                id      gender         age   heart_rate  temperature  \\\n",
       "count  1085.000000  902.000000  843.000000  1085.000000  1085.000000   \n",
       "mean    543.000000    0.423503   49.483689    89.812903    38.562488   \n",
       "std     313.356825    0.494388   18.255334    19.685747     4.592419   \n",
       "min       1.000000    0.000000    0.250000    47.000000    36.000000   \n",
       "25%     272.000000    0.000000   35.000000    72.000000    38.000000   \n",
       "50%     543.000000    0.000000   51.000000    91.000000    38.100000   \n",
       "75%     814.000000    1.000000   64.000000   110.000000    38.500000   \n",
       "max    1085.000000    1.000000   96.000000   120.000000    95.000000   \n",
       "\n",
       "       SpO2_saturation          bpm  Health_status  \n",
       "count      1085.000000  1085.000000    1085.000000  \n",
       "mean         66.707465    71.221198       0.870968  \n",
       "std          30.251069    13.148559       0.335390  \n",
       "min          20.000000    44.000000       0.000000  \n",
       "25%          30.000000    59.000000       1.000000  \n",
       "50%          82.000000    72.000000       1.000000  \n",
       "75%          87.300000    81.000000       1.000000  \n",
       "max         340.000000   109.000000       1.000000  "
      ]
     },
     "execution_count": 12,
     "metadata": {},
     "output_type": "execute_result"
    }
   ],
   "source": [
    "covid_data.describe()"
   ]
  },
  {
   "cell_type": "code",
   "execution_count": 13,
   "id": "c75815ad",
   "metadata": {},
   "outputs": [],
   "source": [
    "covid_data['gender'] = covid_data['gender'].fillna(covid_data['gender'].mean())"
   ]
  },
  {
   "cell_type": "code",
   "execution_count": 14,
   "id": "8246bd99",
   "metadata": {},
   "outputs": [],
   "source": [
    "covid_data['age'] = covid_data['age'].fillna(covid_data['age'].mean())"
   ]
  },
  {
   "cell_type": "code",
   "execution_count": 15,
   "id": "9144b2f1",
   "metadata": {},
   "outputs": [
    {
     "data": {
      "text/plain": [
       "id                 0\n",
       "gender             0\n",
       "age                0\n",
       "heart_rate         0\n",
       "temperature        0\n",
       "SpO2_saturation    0\n",
       "bpm                0\n",
       "Health_status      0\n",
       "dtype: int64"
      ]
     },
     "execution_count": 15,
     "metadata": {},
     "output_type": "execute_result"
    }
   ],
   "source": [
    "covid_data.isnull().sum()"
   ]
  },
  {
   "cell_type": "code",
   "execution_count": 16,
   "id": "8c73dd55",
   "metadata": {},
   "outputs": [
    {
     "data": {
      "text/plain": [
       "1    945\n",
       "0    140\n",
       "Name: Health_status, dtype: int64"
      ]
     },
     "execution_count": 16,
     "metadata": {},
     "output_type": "execute_result"
    }
   ],
   "source": [
    "covid_data['Health_status'].value_counts()"
   ]
  },
  {
   "cell_type": "markdown",
   "id": "e00be9a0",
   "metadata": {},
   "source": [
    "## Data Visualization"
   ]
  },
  {
   "cell_type": "code",
   "execution_count": 17,
   "id": "f4d0bc8d",
   "metadata": {},
   "outputs": [],
   "source": [
    "sns.set()"
   ]
  },
  {
   "cell_type": "code",
   "execution_count": 18,
   "id": "05df0e5a",
   "metadata": {},
   "outputs": [
    {
     "name": "stderr",
     "output_type": "stream",
     "text": [
      "C:\\Users\\devan\\AppData\\Local\\Programs\\Python\\Python310\\lib\\site-packages\\seaborn\\_decorators.py:36: FutureWarning: Pass the following variable as a keyword arg: x. From version 0.12, the only valid positional argument will be `data`, and passing other arguments without an explicit keyword will result in an error or misinterpretation.\n",
      "  warnings.warn(\n"
     ]
    },
    {
     "data": {
      "text/plain": [
       "<AxesSubplot:xlabel='Health_status', ylabel='count'>"
      ]
     },
     "execution_count": 18,
     "metadata": {},
     "output_type": "execute_result"
    },
    {
     "data": {
      "image/png": "[encoded data removed]",
      "text/plain": [
       "<Figure size 432x288 with 1 Axes>"
      ]
     },
     "metadata": {},
     "output_type": "display_data"
    }
   ],
   "source": [
    "sns.countplot('Health_status',data = covid_data)"
   ]
  },
  {
   "cell_type": "code",
   "execution_count": 19,
   "id": "779450f1",
   "metadata": {},
   "outputs": [
    {
     "data": {
      "text/plain": [
       "<seaborn.axisgrid.FacetGrid at 0x26f48ada920>"
      ]
     },
     "execution_count": 19,
     "metadata": {},
     "output_type": "execute_result"
    },
    {
     "data": {
      "image/png": "[encoded data removed]",
      "text/plain": [
       "<Figure size 360x360 with 1 Axes>"
      ]
     },
     "metadata": {},
     "output_type": "display_data"
    }
   ],
   "source": [
    "sns.displot(covid_data['heart_rate'])"
   ]
  },
  {
   "cell_type": "markdown",
   "id": "80352666",
   "metadata": {},
   "source": [
    "## Creating a Heat Map of the data"
   ]
  },
  {
   "cell_type": "code",
   "execution_count": 20,
   "id": "0ce40ca1",
   "metadata": {},
   "outputs": [],
   "source": [
    "correlation = covid_data.corr()"
   ]
  },
  {
   "cell_type": "code",
   "execution_count": 21,
   "id": "0a10c3c3",
   "metadata": {},
   "outputs": [
    {
     "data": {
      "text/plain": [
       "<AxesSubplot:>"
      ]
     },
     "execution_count": 21,
     "metadata": {},
     "output_type": "execute_result"
    },
    {
     "data": {
      "image/png": "[encoded data removed]",
      "text/plain": [
       "<Figure size 576x576 with 2 Axes>"
      ]
     },
     "metadata": {},
     "output_type": "display_data"
    }
   ],
   "source": [
    "plt.figure(figsize=(8,8))\n",
    "sns.heatmap(correlation,cbar=True,square=True,fmt = '.1f',annot=True,annot_kws={'size':8},cmap='Blues')"
   ]
  },
  {
   "cell_type": "markdown",
   "id": "c4438e19",
   "metadata": {},
   "source": [
    "## Separating the labels and the features"
   ]
  },
  {
   "cell_type": "code",
   "execution_count": 22,
   "id": "bfe270f5",
   "metadata": {},
   "outputs": [],
   "source": [
    "X = covid_data.drop(['id','Health_status'],axis=1)"
   ]
  },
  {
   "cell_type": "code",
   "execution_count": 23,
   "id": "e928b7ec",
   "metadata": {},
   "outputs": [],
   "source": [
    "Y = covid_data['Health_status']"
   ]
  },
  {
   "cell_type": "code",
   "execution_count": 24,
   "id": "f16bc78e",
   "metadata": {},
   "outputs": [
    {
     "name": "stdout",
     "output_type": "stream",
     "text": [
      "        gender        age  heart_rate  temperature  SpO2_saturation  bpm\n",
      "0     0.000000  66.000000          70         38.6             88.0   75\n",
      "1     1.000000  56.000000          74         39.6             88.0   70\n",
      "2     0.000000  46.000000          82         37.2             98.0   83\n",
      "3     1.000000  60.000000          90         38.6             98.0   75\n",
      "4     0.000000  58.000000          72         39.6             93.0   78\n",
      "...        ...        ...         ...          ...              ...  ...\n",
      "1080  0.423503  24.000000         110         38.0             30.0   72\n",
      "1081  0.423503  35.000000         110         38.0             30.0   74\n",
      "1082  0.000000  49.483689         110         38.0             30.0   68\n",
      "1083  0.000000  49.483689         110         38.0             30.0   67\n",
      "1084  0.000000  70.000000         110         38.0             30.0   70\n",
      "\n",
      "[1085 rows x 6 columns] 0       1\n",
      "1       1\n",
      "2       0\n",
      "3       0\n",
      "4       1\n",
      "       ..\n",
      "1080    1\n",
      "1081    1\n",
      "1082    1\n",
      "1083    1\n",
      "1084    1\n",
      "Name: Health_status, Length: 1085, dtype: int64\n"
     ]
    }
   ],
   "source": [
    "print(X,Y)"
   ]
  },
  {
   "cell_type": "markdown",
   "id": "134d2993",
   "metadata": {},
   "source": [
    "## Spitting the data into training data and test data"
   ]
  },
  {
   "cell_type": "code",
   "execution_count": 25,
   "id": "cfa27c06",
   "metadata": {},
   "outputs": [],
   "source": [
    "X_train,X_test,Y_train,Y_test = train_test_split(X,Y,test_size=0.2,stratify=Y,random_state=2)"
   ]
  },
  {
   "cell_type": "code",
   "execution_count": 26,
   "id": "c58b76dc",
   "metadata": {},
   "outputs": [
    {
     "name": "stdout",
     "output_type": "stream",
     "text": [
      "(1085, 6) (868, 6) (217, 6)\n"
     ]
    }
   ],
   "source": [
    "print(X.shape,X_train.shape,X_test.shape)"
   ]
  },
  {
   "cell_type": "code",
   "execution_count": 27,
   "id": "98cd2ccb",
   "metadata": {
    "scrolled": true
   },
   "outputs": [
    {
     "data": {
      "text/plain": [
       "1    945\n",
       "0    140\n",
       "Name: Health_status, dtype: int64"
      ]
     },
     "execution_count": 27,
     "metadata": {},
     "output_type": "execute_result"
    }
   ],
   "source": [
    "covid_data['Health_status'].value_counts()"
   ]
  },
  {
   "cell_type": "markdown",
   "id": "455160b5",
   "metadata": {},
   "source": [
    "## Model Training"
   ]
  },
  {
   "cell_type": "code",
   "execution_count": 28,
   "id": "a65bf08a",
   "metadata": {},
   "outputs": [],
   "source": [
    "model = XGBClassifier()"
   ]
  },
  {
   "cell_type": "code",
   "execution_count": 29,
   "id": "b06045f2",
   "metadata": {},
   "outputs": [
    {
     "name": "stdout",
     "output_type": "stream",
     "text": [
      "[21:10:55] WARNING: C:/Users/Administrator/workspace/xgboost-win64_release_1.5.1/src/learner.cc:1115: Starting in XGBoost 1.3.0, the default evaluation metric used with the objective 'binary:logistic' was changed from 'error' to 'logloss'. Explicitly set eval_metric if you'd like to restore the old behavior.\n"
     ]
    },
    {
     "name": "stderr",
     "output_type": "stream",
     "text": [
      "C:\\Users\\devan\\AppData\\Local\\Programs\\Python\\Python310\\lib\\site-packages\\xgboost\\sklearn.py:1224: UserWarning: The use of label encoder in XGBClassifier is deprecated and will be removed in a future release. To remove this warning, do the following: 1) Pass option use_label_encoder=False when constructing XGBClassifier object; and 2) Encode your labels (y) as integers starting with 0, i.e. 0, 1, 2, ..., [num_class - 1].\n",
      "  warnings.warn(label_encoder_deprecation_msg, UserWarning)\n"
     ]
    },
    {
     "data": {
      "text/plain": [
       "XGBClassifier(base_score=0.5, booster='gbtree', colsample_bylevel=1,\n",
       "              colsample_bynode=1, colsample_bytree=1, enable_categorical=False,\n",
       "              gamma=0, gpu_id=-1, importance_type=None,\n",
       "              interaction_constraints='', learning_rate=0.300000012,\n",
       "              max_delta_step=0, max_depth=6, min_child_weight=1, missing=nan,\n",
       "              monotone_constraints='()', n_estimators=100, n_jobs=8,\n",
       "              num_parallel_tree=1, predictor='auto', random_state=0,\n",
       "              reg_alpha=0, reg_lambda=1, scale_pos_weight=1, subsample=1,\n",
       "              tree_method='exact', validate_parameters=1, verbosity=None)"
      ]
     },
     "execution_count": 29,
     "metadata": {},
     "output_type": "execute_result"
    }
   ],
   "source": [
    "model.fit(X_train,Y_train)"
   ]
  },
  {
   "cell_type": "markdown",
   "id": "4e29f2cd",
   "metadata": {},
   "source": [
    "## Model Evaluation"
   ]
  },
  {
   "cell_type": "code",
   "execution_count": 30,
   "id": "8823aa40",
   "metadata": {},
   "outputs": [
    {
     "name": "stdout",
     "output_type": "stream",
     "text": [
      "Accuracy score of Training data 0.9988479262672811\n"
     ]
    }
   ],
   "source": [
    "# Accuracy On training Data\n",
    "training_data_prediction = model.predict(X_train)\n",
    "training_data_accuracy = accuracy_score(Y_train,training_data_prediction)\n",
    "print('Accuracy score of Training data',training_data_accuracy)"
   ]
  },
  {
   "cell_type": "code",
   "execution_count": 31,
   "id": "cf85f2cf",
   "metadata": {},
   "outputs": [
    {
     "name": "stdout",
     "output_type": "stream",
     "text": [
      "Accuracy score of Training data 0.9953917050691244\n"
     ]
    }
   ],
   "source": [
    "# Accuracy On testing Data\n",
    "testing_data_prediction = model.predict(X_test)\n",
    "testing_data_accuracy = accuracy_score(Y_test,testing_data_prediction)\n",
    "print('Accuracy score of Training data',testing_data_accuracy)"
   ]
  },
  {
   "cell_type": "markdown",
   "id": "d1e8351d",
   "metadata": {},
   "source": [
    "## Making Predictive System"
   ]
  },
  {
   "cell_type": "code",
   "execution_count": 61,
   "id": "432848ae",
   "metadata": {},
   "outputs": [
    {
     "name": "stdout",
     "output_type": "stream",
     "text": [
      "[0]\n",
      "The Patient is Covid Negative\n"
     ]
    }
   ],
   "source": [
    "input = (0,37,97,37.2,96,89)\n",
    "input_asarray = np.asarray(input)\n",
    "reshape_input = input_asarray.reshape(1,-1)\n",
    "prediction = model.predict(reshape_input)\n",
    "\n",
    "print(prediction)\n",
    "if(prediction[0]==1):\n",
    "    print('The Patient is Covid Positive')\n",
    "else:\n",
    "    print('The Patient is Covid Negative')"
   ]
  },
  {
   "cell_type": "code",
   "execution_count": null,
   "id": "5dae829d",
   "metadata": {},
   "outputs": [],
   "source": []
  }
 ],
 "metadata": {
  "kernelspec": {
   "display_name": "Python 3 (ipykernel)",
   "language": "python",
   "name": "python3"
  },
  "language_info": {
   "codemirror_mode": {
    "name": "ipython",
    "version": 3
   },
   "file_extension": ".py",
   "mimetype": "text/x-python",
   "name": "python",
   "nbconvert_exporter": "python",
   "pygments_lexer": "ipython3",
   "version": "3.10.1"
  }
 },
 "nbformat": 4,
 "nbformat_minor": 5
}
